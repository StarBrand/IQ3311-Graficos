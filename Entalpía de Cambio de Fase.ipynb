{
 "cells": [
  {
   "cell_type": "markdown",
   "id": "processed-stage",
   "metadata": {},
   "source": [
    "# Entalpía de Cambio de Fase"
   ]
  },
  {
   "cell_type": "markdown",
   "id": "lyric-march",
   "metadata": {},
   "source": [
    "Los datos usados son inventados para que calce el gráfico"
   ]
  },
  {
   "cell_type": "code",
   "execution_count": 1,
   "id": "northern-conference",
   "metadata": {
    "ExecuteTime": {
     "end_time": "2021-06-11T05:04:43.622895Z",
     "start_time": "2021-06-11T05:04:43.039060Z"
    }
   },
   "outputs": [],
   "source": [
    "import os\n",
    "import numpy as np\n",
    "import matplotlib.pyplot as plt"
   ]
  },
  {
   "cell_type": "code",
   "execution_count": 2,
   "id": "timely-builder",
   "metadata": {
    "ExecuteTime": {
     "end_time": "2021-06-11T05:04:43.637888Z",
     "start_time": "2021-06-11T05:04:43.627889Z"
    }
   },
   "outputs": [],
   "source": [
    "# Valores de Temperatura\n",
    "\n",
    "T_sol = np.linspace(-40, 0)\n",
    "T_liq = np.linspace(0, 100)\n",
    "T_gas = np.linspace(100, 150)"
   ]
  },
  {
   "cell_type": "code",
   "execution_count": 3,
   "id": "outdoor-occurrence",
   "metadata": {
    "ExecuteTime": {
     "end_time": "2021-06-11T05:04:43.871828Z",
     "start_time": "2021-06-11T05:04:43.644890Z"
    }
   },
   "outputs": [],
   "source": [
    "# Entalpias de cambio de fase\n",
    "\n",
    "H_fusion = 20\n",
    "H_ebull = 30"
   ]
  },
  {
   "cell_type": "code",
   "execution_count": 4,
   "id": "focused-boundary",
   "metadata": {
    "ExecuteTime": {
     "end_time": "2021-06-11T05:04:43.951356Z",
     "start_time": "2021-06-11T05:04:43.881835Z"
    }
   },
   "outputs": [],
   "source": [
    "# Entalpia en sólido\n",
    "\n",
    "H_0 = 20\n",
    "H_1 = 30\n",
    "\n",
    "H_sol = np.linspace(H_0, H_1)"
   ]
  },
  {
   "cell_type": "code",
   "execution_count": 5,
   "id": "latest-harvest",
   "metadata": {
    "ExecuteTime": {
     "end_time": "2021-06-11T05:04:44.028540Z",
     "start_time": "2021-06-11T05:04:43.956354Z"
    }
   },
   "outputs": [],
   "source": [
    "# Entalpia en líquido\n",
    "# Asumiendo funcion logaritmica (raiz para que se note un poco más)\n",
    "\n",
    "H_liq = np.sqrt(T_liq) + (H_1 + H_fusion)"
   ]
  },
  {
   "cell_type": "code",
   "execution_count": 6,
   "id": "cutting-rates",
   "metadata": {
    "ExecuteTime": {
     "end_time": "2021-06-11T05:04:44.122540Z",
     "start_time": "2021-06-11T05:04:44.032540Z"
    }
   },
   "outputs": [],
   "source": [
    "# Entalpia en gas\n",
    "# Asumiendo funcion logaritmica\n",
    "\n",
    "H_2 = H_liq.max()\n",
    "\n",
    "H_gas = np.log(T_liq + np.exp(1)) + (H_2 + H_ebull)"
   ]
  },
  {
   "cell_type": "code",
   "execution_count": 7,
   "id": "acute-choice",
   "metadata": {
    "ExecuteTime": {
     "end_time": "2021-06-11T05:04:44.799541Z",
     "start_time": "2021-06-11T05:04:44.127544Z"
    },
    "scrolled": false
   },
   "outputs": [
    {
     "data": {
      "image/png": "[encoded data removed]",
      "text/plain": [
       "<Figure size 720x432 with 1 Axes>"
      ]
     },
     "metadata": {
      "needs_background": "light"
     },
     "output_type": "display_data"
    }
   ],
   "source": [
    "fig = plt.figure(figsize=(10, 6))\n",
    "ax = fig.subplots()\n",
    "\n",
    "H_max = H_gas.max() + 10\n",
    "\n",
    "# Entalpia solido\n",
    "ax.plot(T_sol, H_sol, \"k\")\n",
    "ax.plot([T_sol.max()] * 2, [H_1, H_1 + H_fusion], \"k\")\n",
    "# Entalpia líquido\n",
    "ax.plot(T_liq, H_liq, \"k\")\n",
    "# Entalpia gas\n",
    "ax.plot([T_liq.max()] * 2, [H_liq.max(), H_2 + H_ebull], \"k\")\n",
    "ax.plot(T_gas, H_gas, \"k\")\n",
    "\n",
    "# Línea de cambio de fase\n",
    "ax.plot([T_sol.max()] * 2, [0, H_max], \"--\", c=\"gray\")\n",
    "ax.plot([T_liq.max()] * 2, [0, H_max], \"--\", c=\"gray\")\n",
    "\n",
    "# Visual elements\n",
    "ax.tick_params(\n",
    "    axis=\"both\",\n",
    "    which=\"both\",\n",
    "    bottom=False,\n",
    "    top=False,\n",
    "    left=False,\n",
    "    right=False,\n",
    "    labelbottom=True,\n",
    "    labelleft=False\n",
    ")\n",
    "\n",
    "x_ticks = range(-40, 150 + 10, 20)\n",
    "ax.set_xticks(x_ticks)\n",
    "\n",
    "x_ticks_label = [\"\"] * len(x_ticks)\n",
    "x_ticks_label[x_ticks.index(0)] = r\"$T_{fusión}$\"\n",
    "x_ticks_label[x_ticks.index(100)] = r\"$T_{ebullición}$\"\n",
    "\n",
    "ax.set_xticklabels(x_ticks_label, fontsize=14)\n",
    "ax.set_xlabel(\"Temperature T\", fontsize=16)\n",
    "ax.set_ylabel(r\"Entalpía $\\Delta$H\", fontsize=16)\n",
    "\n",
    "# Anotaciones\n",
    "ax.annotate(r\"$\\Delta H_{fusión}$\", (T_sol.max(), H_1 + H_fusion / 2), fontsize=14)\n",
    "ax.annotate(r\"$\\Delta H_{ebullición}$\", (T_liq.max(), H_2 + H_ebull / 2), fontsize=14)\n",
    "\n",
    "ax.set_xlim(T_sol.min(), T_gas.max())\n",
    "ax.set_ylim(0, H_max)\n",
    "ax.grid()\n",
    "\n",
    "os.makedirs(\"entalpia_fase\", exist_ok=True)\n",
    "fig.savefig(os.path.join(\"entalpia_fase\", \"entalpia_fase.png\"))"
   ]
  },
  {
   "cell_type": "code",
   "execution_count": null,
   "id": "hollywood-formula",
   "metadata": {},
   "outputs": [],
   "source": []
  }
 ],
 "metadata": {
  "kernelspec": {
   "display_name": "Python 3",
   "language": "python",
   "name": "python3"
  },
  "language_info": {
   "codemirror_mode": {
    "name": "ipython",
    "version": 3
   },
   "file_extension": ".py",
   "mimetype": "text/x-python",
   "name": "python",
   "nbconvert_exporter": "python",
   "pygments_lexer": "ipython3",
   "version": "3.9.2"
  }
 },
 "nbformat": 4,
 "nbformat_minor": 5
}
